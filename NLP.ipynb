{
  "nbformat": 4,
  "nbformat_minor": 0,
  "metadata": {
    "colab": {
      "name": "NLP.ipynb",
      "version": "0.3.2",
      "provenance": [],
      "collapsed_sections": [],
      "include_colab_link": true
    },
    "kernelspec": {
      "name": "python3",
      "display_name": "Python 3"
    }
  },
  "cells": [
    {
      "cell_type": "markdown",
      "metadata": {
        "id": "view-in-github",
        "colab_type": "text"
      },
      "source": [
        "<a href=\"https://colab.research.google.com/github/brontominds/Titanic/blob/master/NLP.ipynb\" target=\"_parent\"><img src=\"https://colab.research.google.com/assets/colab-badge.svg\" alt=\"Open In Colab\"/></a>"
      ]
    },
    {
      "metadata": {
        "id": "MiFi9vfXWSR7",
        "colab_type": "code",
        "colab": {}
      },
      "cell_type": "code",
      "source": [
        "#NLP Problems\n"
      ],
      "execution_count": 0,
      "outputs": []
    },
    {
      "metadata": {
        "id": "KP2NzARsWVtU",
        "colab_type": "code",
        "colab": {}
      },
      "cell_type": "code",
      "source": [
        "!pip install kaggle\n",
        "!mkdir -p ~/.kaggle\n",
        "from google.colab import files\n",
        "\n",
        "uploaded = files.upload()\n",
        "\n",
        "for fn in uploaded.keys():\n",
        "  print('User uploaded file \"{name}\" with length {length} bytes'.format(\n",
        "      name=fn, length=len(uploaded[fn])))\n",
        "!cp kaggle.json ~/.kaggle/\n",
        "!chmod 600 ~/.kaggle/kaggle.json\n",
        "!kaggle competitions download -c abhishek/approaching-almost-any-nlp-problem-on-kaggle"
      ],
      "execution_count": 0,
      "outputs": []
    },
    {
      "metadata": {
        "id": "5YUcm7fSWuxd",
        "colab_type": "code",
        "colab": {
          "base_uri": "https://localhost:8080/",
          "height": 68
        },
        "outputId": "2a8ad6d0-cce1-4bfe-df2b-f43e17606d9b"
      },
      "cell_type": "code",
      "source": [
        "!kaggle datasets list -s spooky-author-identification\n"
      ],
      "execution_count": 16,
      "outputs": [
        {
          "output_type": "stream",
          "text": [
            "ref                            title                    size  lastUpdated          downloadCount  \n",
            "-----------------------------  ----------------------  -----  -------------------  -------------  \n",
            "kashnitsky/spooky-vw-tutorial  Vowpal Wabbit tutorial  244MB  2018-04-02 06:17:48            273  \n"
          ],
          "name": "stdout"
        }
      ]
    },
    {
      "metadata": {
        "id": "KUsYfhnJXgfh",
        "colab_type": "code",
        "colab": {
          "base_uri": "https://localhost:8080/",
          "height": 170
        },
        "outputId": "10c7a163-207c-45f3-8567-90c3c2c9f937"
      },
      "cell_type": "code",
      "source": [
        "!kaggle competitions download -c spooky-author-identification"
      ],
      "execution_count": 17,
      "outputs": [
        {
          "output_type": "stream",
          "text": [
            "Downloading sample_submission.zip to /content\n",
            "\r  0% 0.00/29.4k [00:00<?, ?B/s]\n",
            "100% 29.4k/29.4k [00:00<00:00, 18.4MB/s]\n",
            "Downloading test.zip to /content\n",
            "  0% 0.00/538k [00:00<?, ?B/s]\n",
            "100% 538k/538k [00:00<00:00, 74.4MB/s]\n",
            "Downloading train.zip to /content\n",
            "  0% 0.00/1.26M [00:00<?, ?B/s]\n",
            "100% 1.26M/1.26M [00:00<00:00, 84.1MB/s]\n"
          ],
          "name": "stdout"
        }
      ]
    },
    {
      "metadata": {
        "id": "4XAH0rpSYCTZ",
        "colab_type": "code",
        "colab": {
          "base_uri": "https://localhost:8080/",
          "height": 51
        },
        "outputId": "8d6a0c22-5b94-42d8-e349-735955d59a22"
      },
      "cell_type": "code",
      "source": [
        "import pandas as pd\n",
        "import numpy as np\n",
        "import xgboost as xgb\n",
        "from tqdm import tqdm\n",
        "from sklearn.svm import SVC\n",
        "from keras.models import Sequential\n",
        "from keras.layers.recurrent import LSTM, GRU\n",
        "from keras.layers.core import Dense, Activation, Dropout\n",
        "from keras.layers.embeddings import Embedding\n",
        "from keras.layers.normalization import BatchNormalization\n",
        "from keras.utils import np_utils\n",
        "from sklearn import preprocessing, decomposition, model_selection, metrics, pipeline\n",
        "from sklearn.model_selection import GridSearchCV\n",
        "from sklearn.feature_extraction.text import TfidfVectorizer, CountVectorizer\n",
        "from sklearn.decomposition import TruncatedSVD\n",
        "from sklearn.linear_model import LogisticRegression\n",
        "from sklearn.model_selection import train_test_split\n",
        "from sklearn.naive_bayes import MultinomialNB\n",
        "from keras.layers import GlobalMaxPooling1D, Conv1D, MaxPooling1D, Flatten, Bidirectional, SpatialDropout1D\n",
        "from keras.preprocessing import sequence, text\n",
        "from keras.callbacks import EarlyStopping\n",
        "from nltk import word_tokenize\n",
        "from nltk.corpus import stopwords\n",
        "import nltk\n",
        "nltk.download('stopwords')\n",
        "stop_words = stopwords.words('english')"
      ],
      "execution_count": 18,
      "outputs": [
        {
          "output_type": "stream",
          "text": [
            "[nltk_data] Downloading package stopwords to /root/nltk_data...\n",
            "[nltk_data]   Package stopwords is already up-to-date!\n"
          ],
          "name": "stdout"
        }
      ]
    },
    {
      "metadata": {
        "id": "1jQ97sBLZ6Dk",
        "colab_type": "code",
        "colab": {}
      },
      "cell_type": "code",
      "source": [
        "train = pd.read_csv('../content/train.zip')\n",
        "test = pd.read_csv('../content/test.zip')\n",
        "sample = pd.read_csv('../content/sample_submission.zip')"
      ],
      "execution_count": 0,
      "outputs": []
    },
    {
      "metadata": {
        "id": "vsLBi0YDaP5h",
        "colab_type": "code",
        "colab": {
          "base_uri": "https://localhost:8080/",
          "height": 204
        },
        "outputId": "5cd69a3a-7512-4e90-cc90-296c1895793c"
      },
      "cell_type": "code",
      "source": [
        "train.head()"
      ],
      "execution_count": 28,
      "outputs": [
        {
          "output_type": "execute_result",
          "data": {
            "text/html": [
              "<div>\n",
              "<style scoped>\n",
              "    .dataframe tbody tr th:only-of-type {\n",
              "        vertical-align: middle;\n",
              "    }\n",
              "\n",
              "    .dataframe tbody tr th {\n",
              "        vertical-align: top;\n",
              "    }\n",
              "\n",
              "    .dataframe thead th {\n",
              "        text-align: right;\n",
              "    }\n",
              "</style>\n",
              "<table border=\"1\" class=\"dataframe\">\n",
              "  <thead>\n",
              "    <tr style=\"text-align: right;\">\n",
              "      <th></th>\n",
              "      <th>id</th>\n",
              "      <th>text</th>\n",
              "      <th>author</th>\n",
              "    </tr>\n",
              "  </thead>\n",
              "  <tbody>\n",
              "    <tr>\n",
              "      <th>0</th>\n",
              "      <td>id26305</td>\n",
              "      <td>This process, however, afforded me no means of...</td>\n",
              "      <td>EAP</td>\n",
              "    </tr>\n",
              "    <tr>\n",
              "      <th>1</th>\n",
              "      <td>id17569</td>\n",
              "      <td>It never once occurred to me that the fumbling...</td>\n",
              "      <td>HPL</td>\n",
              "    </tr>\n",
              "    <tr>\n",
              "      <th>2</th>\n",
              "      <td>id11008</td>\n",
              "      <td>In his left hand was a gold snuff box, from wh...</td>\n",
              "      <td>EAP</td>\n",
              "    </tr>\n",
              "    <tr>\n",
              "      <th>3</th>\n",
              "      <td>id27763</td>\n",
              "      <td>How lovely is spring As we looked from Windsor...</td>\n",
              "      <td>MWS</td>\n",
              "    </tr>\n",
              "    <tr>\n",
              "      <th>4</th>\n",
              "      <td>id12958</td>\n",
              "      <td>Finding nothing else, not even gold, the Super...</td>\n",
              "      <td>HPL</td>\n",
              "    </tr>\n",
              "  </tbody>\n",
              "</table>\n",
              "</div>"
            ],
            "text/plain": [
              "        id                                               text author\n",
              "0  id26305  This process, however, afforded me no means of...    EAP\n",
              "1  id17569  It never once occurred to me that the fumbling...    HPL\n",
              "2  id11008  In his left hand was a gold snuff box, from wh...    EAP\n",
              "3  id27763  How lovely is spring As we looked from Windsor...    MWS\n",
              "4  id12958  Finding nothing else, not even gold, the Super...    HPL"
            ]
          },
          "metadata": {
            "tags": []
          },
          "execution_count": 28
        }
      ]
    },
    {
      "metadata": {
        "id": "OoPLRFwAa26U",
        "colab_type": "code",
        "colab": {
          "base_uri": "https://localhost:8080/",
          "height": 204
        },
        "outputId": "756df752-26f0-4917-ef7e-756a0e2a8eba"
      },
      "cell_type": "code",
      "source": [
        "sample.head()"
      ],
      "execution_count": 29,
      "outputs": [
        {
          "output_type": "execute_result",
          "data": {
            "text/html": [
              "<div>\n",
              "<style scoped>\n",
              "    .dataframe tbody tr th:only-of-type {\n",
              "        vertical-align: middle;\n",
              "    }\n",
              "\n",
              "    .dataframe tbody tr th {\n",
              "        vertical-align: top;\n",
              "    }\n",
              "\n",
              "    .dataframe thead th {\n",
              "        text-align: right;\n",
              "    }\n",
              "</style>\n",
              "<table border=\"1\" class=\"dataframe\">\n",
              "  <thead>\n",
              "    <tr style=\"text-align: right;\">\n",
              "      <th></th>\n",
              "      <th>id</th>\n",
              "      <th>EAP</th>\n",
              "      <th>HPL</th>\n",
              "      <th>MWS</th>\n",
              "    </tr>\n",
              "  </thead>\n",
              "  <tbody>\n",
              "    <tr>\n",
              "      <th>0</th>\n",
              "      <td>id02310</td>\n",
              "      <td>0.403494</td>\n",
              "      <td>0.287808</td>\n",
              "      <td>0.308698</td>\n",
              "    </tr>\n",
              "    <tr>\n",
              "      <th>1</th>\n",
              "      <td>id24541</td>\n",
              "      <td>0.403494</td>\n",
              "      <td>0.287808</td>\n",
              "      <td>0.308698</td>\n",
              "    </tr>\n",
              "    <tr>\n",
              "      <th>2</th>\n",
              "      <td>id00134</td>\n",
              "      <td>0.403494</td>\n",
              "      <td>0.287808</td>\n",
              "      <td>0.308698</td>\n",
              "    </tr>\n",
              "    <tr>\n",
              "      <th>3</th>\n",
              "      <td>id27757</td>\n",
              "      <td>0.403494</td>\n",
              "      <td>0.287808</td>\n",
              "      <td>0.308698</td>\n",
              "    </tr>\n",
              "    <tr>\n",
              "      <th>4</th>\n",
              "      <td>id04081</td>\n",
              "      <td>0.403494</td>\n",
              "      <td>0.287808</td>\n",
              "      <td>0.308698</td>\n",
              "    </tr>\n",
              "  </tbody>\n",
              "</table>\n",
              "</div>"
            ],
            "text/plain": [
              "        id       EAP       HPL       MWS\n",
              "0  id02310  0.403494  0.287808  0.308698\n",
              "1  id24541  0.403494  0.287808  0.308698\n",
              "2  id00134  0.403494  0.287808  0.308698\n",
              "3  id27757  0.403494  0.287808  0.308698\n",
              "4  id04081  0.403494  0.287808  0.308698"
            ]
          },
          "metadata": {
            "tags": []
          },
          "execution_count": 29
        }
      ]
    },
    {
      "metadata": {
        "id": "HQRb5TQfbJqU",
        "colab_type": "code",
        "colab": {}
      },
      "cell_type": "code",
      "source": [
        "def multiclass_logloss(actual, predicted, eps=1e-15):\n",
        "    \"\"\"Multi class version of Logarithmic Loss metric.\n",
        "    :param actual: Array containing the actual target classes\n",
        "    :param predicted: Matrix with class predictions, one probability per class\n",
        "    \"\"\"\n",
        "    # Convert 'actual' to a binary array if it's not already:\n",
        "    if len(actual.shape) == 1:\n",
        "        actual2 = np.zeros((actual.shape[0], predicted.shape[1]))\n",
        "        for i, val in enumerate(actual):\n",
        "            actual2[i, val] = 1\n",
        "        actual = actual2\n",
        "\n",
        "    clip = np.clip(predicted, eps, 1 - eps)\n",
        "    rows = actual.shape[0]\n",
        "    vsota = np.sum(actual * np.log(clip))\n",
        "    return -1.0 / rows * vsota"
      ],
      "execution_count": 0,
      "outputs": []
    },
    {
      "metadata": {
        "id": "8fMCfVTEltx6",
        "colab_type": "code",
        "colab": {}
      },
      "cell_type": "code",
      "source": [
        "lbl_enc = preprocessing.LabelEncoder()\n",
        "y = lbl_enc.fit_transform(train.author.values)"
      ],
      "execution_count": 0,
      "outputs": []
    },
    {
      "metadata": {
        "id": "2yAPchNPlu2a",
        "colab_type": "code",
        "colab": {}
      },
      "cell_type": "code",
      "source": [
        "xtrain, xvalid, ytrain, yvalid = train_test_split(train.text.values, y, \n",
        "                                                  stratify=y, \n",
        "                                                  random_state=42, \n",
        "                                                  test_size=0.1, shuffle=True)\n"
      ],
      "execution_count": 0,
      "outputs": []
    },
    {
      "metadata": {
        "id": "kewtvmxnoRfQ",
        "colab_type": "text"
      },
      "cell_type": "markdown",
      "source": [
        ""
      ]
    },
    {
      "metadata": {
        "id": "WnJa5_uNn5Xd",
        "colab_type": "code",
        "colab": {}
      },
      "cell_type": "code",
      "source": [
        ""
      ],
      "execution_count": 0,
      "outputs": []
    },
    {
      "metadata": {
        "id": "V-z3jKPAl-_L",
        "colab_type": "code",
        "colab": {
          "base_uri": "https://localhost:8080/",
          "height": 51
        },
        "outputId": "7144b6d2-2afe-4f2d-c74c-1cbe13202add"
      },
      "cell_type": "code",
      "source": [
        "print (xtrain.shape)\n",
        "print (xvalid.shape)"
      ],
      "execution_count": 37,
      "outputs": [
        {
          "output_type": "stream",
          "text": [
            "(17621,)\n",
            "(1958,)\n"
          ],
          "name": "stdout"
        }
      ]
    },
    {
      "metadata": {
        "id": "lZYpxKbRnLWQ",
        "colab_type": "code",
        "colab": {}
      },
      "cell_type": "code",
      "source": [
        "# Always start with these features. They work (almost) everytime!\n",
        "tfv = TfidfVectorizer(min_df=3,  max_features=None, \n",
        "            strip_accents='unicode', analyzer='word',token_pattern=r'\\w{1,}',\n",
        "            ngram_range=(1, 3), use_idf=1,smooth_idf=1,sublinear_tf=1,\n",
        "            stop_words = 'english')\n",
        "\n",
        "# Fitting TF-IDF to both training and test sets (semi-supervised learning)\n",
        "tfv.fit(list(xtrain) + list(xvalid))\n",
        "xtrain_tfv =  tfv.transform(xtrain) \n",
        "xvalid_tfv = tfv.transform(xvalid)"
      ],
      "execution_count": 0,
      "outputs": []
    },
    {
      "metadata": {
        "id": "0wJKwL2MnOFX",
        "colab_type": "code",
        "colab": {
          "base_uri": "https://localhost:8080/",
          "height": 122
        },
        "outputId": "623cfaba-0c6b-4aeb-ecc4-bb49fae914f4"
      },
      "cell_type": "code",
      "source": [
        "# Fitting a simple Logistic Regression on TFIDF\n",
        "clf = LogisticRegression(C=1.0)\n",
        "clf.fit(xtrain_tfv, ytrain)\n",
        "predictions = clf.predict_proba(xvalid_tfv)\n",
        "\n",
        "print (\"logloss: %0.3f \" % multiclass_logloss(yvalid, predictions))"
      ],
      "execution_count": 39,
      "outputs": [
        {
          "output_type": "stream",
          "text": [
            "/usr/local/lib/python3.6/dist-packages/sklearn/linear_model/logistic.py:433: FutureWarning: Default solver will be changed to 'lbfgs' in 0.22. Specify a solver to silence this warning.\n",
            "  FutureWarning)\n",
            "/usr/local/lib/python3.6/dist-packages/sklearn/linear_model/logistic.py:460: FutureWarning: Default multi_class will be changed to 'auto' in 0.22. Specify the multi_class option to silence this warning.\n",
            "  \"this warning.\", FutureWarning)\n"
          ],
          "name": "stderr"
        },
        {
          "output_type": "stream",
          "text": [
            "logloss: 0.626 \n"
          ],
          "name": "stdout"
        }
      ]
    },
    {
      "metadata": {
        "id": "rP7pEaRWo6TU",
        "colab_type": "code",
        "colab": {}
      },
      "cell_type": "code",
      "source": [
        ""
      ],
      "execution_count": 0,
      "outputs": []
    },
    {
      "metadata": {
        "id": "mqlWyBxvnQSP",
        "colab_type": "code",
        "colab": {
          "base_uri": "https://localhost:8080/",
          "height": 136
        },
        "outputId": "7be21657-a83c-4fe8-99c2-102604fe8e76"
      },
      "cell_type": "code",
      "source": [
        "predictions"
      ],
      "execution_count": 40,
      "outputs": [
        {
          "output_type": "execute_result",
          "data": {
            "text/plain": [
              "array([[0.64570316, 0.07198908, 0.28230776],\n",
              "       [0.7279392 , 0.11053272, 0.16152808],\n",
              "       [0.59463897, 0.16063728, 0.24472375],\n",
              "       ...,\n",
              "       [0.30960304, 0.23045395, 0.45994301],\n",
              "       [0.27844526, 0.19130916, 0.53024558],\n",
              "       [0.12123526, 0.80918181, 0.06958293]])"
            ]
          },
          "metadata": {
            "tags": []
          },
          "execution_count": 40
        }
      ]
    },
    {
      "metadata": {
        "id": "cVjHtzs9nUYu",
        "colab_type": "code",
        "colab": {}
      },
      "cell_type": "code",
      "source": [
        "xtest_tfv = tfv.transform(test)"
      ],
      "execution_count": 0,
      "outputs": []
    },
    {
      "metadata": {
        "id": "rieEI8H-nXBv",
        "colab_type": "code",
        "colab": {
          "base_uri": "https://localhost:8080/",
          "height": 51
        },
        "outputId": "515baef7-de72-4724-ad03-ad44d1487a0e"
      },
      "cell_type": "code",
      "source": [
        "xtest_tfv"
      ],
      "execution_count": 54,
      "outputs": [
        {
          "output_type": "execute_result",
          "data": {
            "text/plain": [
              "<2x15102 sparse matrix of type '<class 'numpy.float64'>'\n",
              "\twith 1 stored elements in Compressed Sparse Row format>"
            ]
          },
          "metadata": {
            "tags": []
          },
          "execution_count": 54
        }
      ]
    },
    {
      "metadata": {
        "id": "gQrk_b4Zo68z",
        "colab_type": "code",
        "colab": {}
      },
      "cell_type": "code",
      "source": [
        "predictions_tests = clf.predict_proba(xtest_tfv)\n"
      ],
      "execution_count": 0,
      "outputs": []
    },
    {
      "metadata": {
        "id": "eNqC_1Bmo_DF",
        "colab_type": "code",
        "colab": {
          "base_uri": "https://localhost:8080/",
          "height": 51
        },
        "outputId": "c746af45-3e81-42be-cf09-3ed98aee7e23"
      },
      "cell_type": "code",
      "source": [
        "predictions_tests"
      ],
      "execution_count": 57,
      "outputs": [
        {
          "output_type": "execute_result",
          "data": {
            "text/plain": [
              "array([[0.50983724, 0.24333142, 0.24683134],\n",
              "       [0.40948019, 0.34995558, 0.24056423]])"
            ]
          },
          "metadata": {
            "tags": []
          },
          "execution_count": 57
        }
      ]
    },
    {
      "metadata": {
        "id": "x68IQAxjpE6O",
        "colab_type": "code",
        "colab": {
          "base_uri": "https://localhost:8080/",
          "height": 1969
        },
        "outputId": "8139c390-1cae-4562-b6e4-fbcd2ccfe0be"
      },
      "cell_type": "code",
      "source": [
        "test"
      ],
      "execution_count": 58,
      "outputs": [
        {
          "output_type": "execute_result",
          "data": {
            "text/html": [
              "<div>\n",
              "<style scoped>\n",
              "    .dataframe tbody tr th:only-of-type {\n",
              "        vertical-align: middle;\n",
              "    }\n",
              "\n",
              "    .dataframe tbody tr th {\n",
              "        vertical-align: top;\n",
              "    }\n",
              "\n",
              "    .dataframe thead th {\n",
              "        text-align: right;\n",
              "    }\n",
              "</style>\n",
              "<table border=\"1\" class=\"dataframe\">\n",
              "  <thead>\n",
              "    <tr style=\"text-align: right;\">\n",
              "      <th></th>\n",
              "      <th>id</th>\n",
              "      <th>text</th>\n",
              "    </tr>\n",
              "  </thead>\n",
              "  <tbody>\n",
              "    <tr>\n",
              "      <th>0</th>\n",
              "      <td>id02310</td>\n",
              "      <td>Still, as I urged our leaving Ireland with suc...</td>\n",
              "    </tr>\n",
              "    <tr>\n",
              "      <th>1</th>\n",
              "      <td>id24541</td>\n",
              "      <td>If a fire wanted fanning, it could readily be ...</td>\n",
              "    </tr>\n",
              "    <tr>\n",
              "      <th>2</th>\n",
              "      <td>id00134</td>\n",
              "      <td>And when they had broken down the frail door t...</td>\n",
              "    </tr>\n",
              "    <tr>\n",
              "      <th>3</th>\n",
              "      <td>id27757</td>\n",
              "      <td>While I was thinking how I should possibly man...</td>\n",
              "    </tr>\n",
              "    <tr>\n",
              "      <th>4</th>\n",
              "      <td>id04081</td>\n",
              "      <td>I am not sure to what limit his knowledge may ...</td>\n",
              "    </tr>\n",
              "    <tr>\n",
              "      <th>5</th>\n",
              "      <td>id27337</td>\n",
              "      <td>\"The thick and peculiar mist, or smoke, which ...</td>\n",
              "    </tr>\n",
              "    <tr>\n",
              "      <th>6</th>\n",
              "      <td>id24265</td>\n",
              "      <td>That which is not matter, is not at all unless...</td>\n",
              "    </tr>\n",
              "    <tr>\n",
              "      <th>7</th>\n",
              "      <td>id25917</td>\n",
              "      <td>I sought for repose although I did not hope fo...</td>\n",
              "    </tr>\n",
              "    <tr>\n",
              "      <th>8</th>\n",
              "      <td>id04951</td>\n",
              "      <td>Upon the fourth day of the assassination, a pa...</td>\n",
              "    </tr>\n",
              "    <tr>\n",
              "      <th>9</th>\n",
              "      <td>id14549</td>\n",
              "      <td>\"The tone metaphysical is also a good one.</td>\n",
              "    </tr>\n",
              "    <tr>\n",
              "      <th>10</th>\n",
              "      <td>id22505</td>\n",
              "      <td>These, the offspring of a later period, stood ...</td>\n",
              "    </tr>\n",
              "    <tr>\n",
              "      <th>11</th>\n",
              "      <td>id24002</td>\n",
              "      <td>What kept him from going with her and Brown Je...</td>\n",
              "    </tr>\n",
              "    <tr>\n",
              "      <th>12</th>\n",
              "      <td>id18982</td>\n",
              "      <td>Persuading the widow that my connexion with he...</td>\n",
              "    </tr>\n",
              "    <tr>\n",
              "      <th>13</th>\n",
              "      <td>id15181</td>\n",
              "      <td>When I arose trembling, I know not how much la...</td>\n",
              "    </tr>\n",
              "    <tr>\n",
              "      <th>14</th>\n",
              "      <td>id21888</td>\n",
              "      <td>And by the shores of the river Zaire there is ...</td>\n",
              "    </tr>\n",
              "    <tr>\n",
              "      <th>15</th>\n",
              "      <td>id12035</td>\n",
              "      <td>Idris heard of her mother's return with pleasure.</td>\n",
              "    </tr>\n",
              "    <tr>\n",
              "      <th>16</th>\n",
              "      <td>id17991</td>\n",
              "      <td>I say this proudly, but with tears in my eyes ...</td>\n",
              "    </tr>\n",
              "    <tr>\n",
              "      <th>17</th>\n",
              "      <td>id10707</td>\n",
              "      <td>But let us glance at the treatise Ah \"Ability ...</td>\n",
              "    </tr>\n",
              "    <tr>\n",
              "      <th>18</th>\n",
              "      <td>id07101</td>\n",
              "      <td>\"What a place is this that you inhabit, my son...</td>\n",
              "    </tr>\n",
              "    <tr>\n",
              "      <th>19</th>\n",
              "      <td>id00345</td>\n",
              "      <td>At his nod I took one of the latter and seated...</td>\n",
              "    </tr>\n",
              "    <tr>\n",
              "      <th>20</th>\n",
              "      <td>id05912</td>\n",
              "      <td>No one doubted now that the mystery of this mu...</td>\n",
              "    </tr>\n",
              "    <tr>\n",
              "      <th>21</th>\n",
              "      <td>id13443</td>\n",
              "      <td>But although, in one or two instances, arrests...</td>\n",
              "    </tr>\n",
              "    <tr>\n",
              "      <th>22</th>\n",
              "      <td>id09248</td>\n",
              "      <td>Festivity, and even libertinism, became the or...</td>\n",
              "    </tr>\n",
              "    <tr>\n",
              "      <th>23</th>\n",
              "      <td>id17542</td>\n",
              "      <td>For I am Iranon, who was a Prince in Aira.\"</td>\n",
              "    </tr>\n",
              "    <tr>\n",
              "      <th>24</th>\n",
              "      <td>id06995</td>\n",
              "      <td>\"Gaze not on the star, dear, generous friend,\"...</td>\n",
              "    </tr>\n",
              "    <tr>\n",
              "      <th>25</th>\n",
              "      <td>id25159</td>\n",
              "      <td>I am serious in asserting that my breath was e...</td>\n",
              "    </tr>\n",
              "    <tr>\n",
              "      <th>26</th>\n",
              "      <td>id25729</td>\n",
              "      <td>The thing will haunt me, for who can say the e...</td>\n",
              "    </tr>\n",
              "    <tr>\n",
              "      <th>27</th>\n",
              "      <td>id26949</td>\n",
              "      <td>Before each of the party lay a portion of a sk...</td>\n",
              "    </tr>\n",
              "    <tr>\n",
              "      <th>28</th>\n",
              "      <td>id27191</td>\n",
              "      <td>If she had been bred in that sphere of life to...</td>\n",
              "    </tr>\n",
              "    <tr>\n",
              "      <th>29</th>\n",
              "      <td>id07668</td>\n",
              "      <td>Or, if this mode of speech offend you, let me ...</td>\n",
              "    </tr>\n",
              "    <tr>\n",
              "      <th>...</th>\n",
              "      <td>...</td>\n",
              "      <td>...</td>\n",
              "    </tr>\n",
              "    <tr>\n",
              "      <th>8362</th>\n",
              "      <td>id22510</td>\n",
              "      <td>Then again he distracted my thoughts from my s...</td>\n",
              "    </tr>\n",
              "    <tr>\n",
              "      <th>8363</th>\n",
              "      <td>id19204</td>\n",
              "      <td>Upon the whole, whether happily or unhappily, ...</td>\n",
              "    </tr>\n",
              "    <tr>\n",
              "      <th>8364</th>\n",
              "      <td>id05758</td>\n",
              "      <td>He was not allowed to finish this speech in tr...</td>\n",
              "    </tr>\n",
              "    <tr>\n",
              "      <th>8365</th>\n",
              "      <td>id27063</td>\n",
              "      <td>His looks were wild with terror, and he spoke ...</td>\n",
              "    </tr>\n",
              "    <tr>\n",
              "      <th>8366</th>\n",
              "      <td>id11773</td>\n",
              "      <td>By the quantity of provision which I had consu...</td>\n",
              "    </tr>\n",
              "    <tr>\n",
              "      <th>8367</th>\n",
              "      <td>id11562</td>\n",
              "      <td>I hurled after the scoundrel these vehement wo...</td>\n",
              "    </tr>\n",
              "    <tr>\n",
              "      <th>8368</th>\n",
              "      <td>id16208</td>\n",
              "      <td>Notwithstanding the hazardous object of our jo...</td>\n",
              "    </tr>\n",
              "    <tr>\n",
              "      <th>8369</th>\n",
              "      <td>id04036</td>\n",
              "      <td>I felt the greatest eagerness to hear the prom...</td>\n",
              "    </tr>\n",
              "    <tr>\n",
              "      <th>8370</th>\n",
              "      <td>id26159</td>\n",
              "      <td>But in the expression of the countenance, whic...</td>\n",
              "    </tr>\n",
              "    <tr>\n",
              "      <th>8371</th>\n",
              "      <td>id26777</td>\n",
              "      <td>Its decorations were rich, yet tattered and an...</td>\n",
              "    </tr>\n",
              "    <tr>\n",
              "      <th>8372</th>\n",
              "      <td>id08501</td>\n",
              "      <td>He directed my attention to some object agains...</td>\n",
              "    </tr>\n",
              "    <tr>\n",
              "      <th>8373</th>\n",
              "      <td>id11216</td>\n",
              "      <td>Hey? Haow'd ye like to hear the haowlin' night...</td>\n",
              "    </tr>\n",
              "    <tr>\n",
              "      <th>8374</th>\n",
              "      <td>id03410</td>\n",
              "      <td>She was buried not in a vault, but in an ordin...</td>\n",
              "    </tr>\n",
              "    <tr>\n",
              "      <th>8375</th>\n",
              "      <td>id04537</td>\n",
              "      <td>In company with this sprightly and clever Gree...</td>\n",
              "    </tr>\n",
              "    <tr>\n",
              "      <th>8376</th>\n",
              "      <td>id26628</td>\n",
              "      <td>In this unnerved in this pitiable condition I ...</td>\n",
              "    </tr>\n",
              "    <tr>\n",
              "      <th>8377</th>\n",
              "      <td>id01586</td>\n",
              "      <td>He was a scoundrel, and I don't blame you for ...</td>\n",
              "    </tr>\n",
              "    <tr>\n",
              "      <th>8378</th>\n",
              "      <td>id13421</td>\n",
              "      <td>But why should I dwell upon the incidents that...</td>\n",
              "    </tr>\n",
              "    <tr>\n",
              "      <th>8379</th>\n",
              "      <td>id26084</td>\n",
              "      <td>In the streets were spears of long grass, and ...</td>\n",
              "    </tr>\n",
              "    <tr>\n",
              "      <th>8380</th>\n",
              "      <td>id05375</td>\n",
              "      <td>When I first sought it, it was the love of vir...</td>\n",
              "    </tr>\n",
              "    <tr>\n",
              "      <th>8381</th>\n",
              "      <td>id23212</td>\n",
              "      <td>But it is in matters beyond the limits of mere...</td>\n",
              "    </tr>\n",
              "    <tr>\n",
              "      <th>8382</th>\n",
              "      <td>id15980</td>\n",
              "      <td>\"I may say an excellently well constructed house.</td>\n",
              "    </tr>\n",
              "    <tr>\n",
              "      <th>8383</th>\n",
              "      <td>id11719</td>\n",
              "      <td>Across a covered bridge one sees a small villa...</td>\n",
              "    </tr>\n",
              "    <tr>\n",
              "      <th>8384</th>\n",
              "      <td>id13109</td>\n",
              "      <td>You cannot take up a common newspaper in which...</td>\n",
              "    </tr>\n",
              "    <tr>\n",
              "      <th>8385</th>\n",
              "      <td>id07156</td>\n",
              "      <td>Consoling myself with this reflection, I was m...</td>\n",
              "    </tr>\n",
              "    <tr>\n",
              "      <th>8386</th>\n",
              "      <td>id04893</td>\n",
              "      <td>Yet we laughed and were merry in our proper wa...</td>\n",
              "    </tr>\n",
              "    <tr>\n",
              "      <th>8387</th>\n",
              "      <td>id11749</td>\n",
              "      <td>All this is now the fitter for my purpose.</td>\n",
              "    </tr>\n",
              "    <tr>\n",
              "      <th>8388</th>\n",
              "      <td>id10526</td>\n",
              "      <td>I fixed myself on a wide solitude.</td>\n",
              "    </tr>\n",
              "    <tr>\n",
              "      <th>8389</th>\n",
              "      <td>id13477</td>\n",
              "      <td>It is easily understood that what might improv...</td>\n",
              "    </tr>\n",
              "    <tr>\n",
              "      <th>8390</th>\n",
              "      <td>id13761</td>\n",
              "      <td>Be this as it may, I now began to feel the ins...</td>\n",
              "    </tr>\n",
              "    <tr>\n",
              "      <th>8391</th>\n",
              "      <td>id04282</td>\n",
              "      <td>Long winded, statistical, and drearily genealo...</td>\n",
              "    </tr>\n",
              "  </tbody>\n",
              "</table>\n",
              "<p>8392 rows × 2 columns</p>\n",
              "</div>"
            ],
            "text/plain": [
              "           id                                               text\n",
              "0     id02310  Still, as I urged our leaving Ireland with suc...\n",
              "1     id24541  If a fire wanted fanning, it could readily be ...\n",
              "2     id00134  And when they had broken down the frail door t...\n",
              "3     id27757  While I was thinking how I should possibly man...\n",
              "4     id04081  I am not sure to what limit his knowledge may ...\n",
              "5     id27337  \"The thick and peculiar mist, or smoke, which ...\n",
              "6     id24265  That which is not matter, is not at all unless...\n",
              "7     id25917  I sought for repose although I did not hope fo...\n",
              "8     id04951  Upon the fourth day of the assassination, a pa...\n",
              "9     id14549         \"The tone metaphysical is also a good one.\n",
              "10    id22505  These, the offspring of a later period, stood ...\n",
              "11    id24002  What kept him from going with her and Brown Je...\n",
              "12    id18982  Persuading the widow that my connexion with he...\n",
              "13    id15181  When I arose trembling, I know not how much la...\n",
              "14    id21888  And by the shores of the river Zaire there is ...\n",
              "15    id12035  Idris heard of her mother's return with pleasure.\n",
              "16    id17991  I say this proudly, but with tears in my eyes ...\n",
              "17    id10707  But let us glance at the treatise Ah \"Ability ...\n",
              "18    id07101  \"What a place is this that you inhabit, my son...\n",
              "19    id00345  At his nod I took one of the latter and seated...\n",
              "20    id05912  No one doubted now that the mystery of this mu...\n",
              "21    id13443  But although, in one or two instances, arrests...\n",
              "22    id09248  Festivity, and even libertinism, became the or...\n",
              "23    id17542        For I am Iranon, who was a Prince in Aira.\"\n",
              "24    id06995  \"Gaze not on the star, dear, generous friend,\"...\n",
              "25    id25159  I am serious in asserting that my breath was e...\n",
              "26    id25729  The thing will haunt me, for who can say the e...\n",
              "27    id26949  Before each of the party lay a portion of a sk...\n",
              "28    id27191  If she had been bred in that sphere of life to...\n",
              "29    id07668  Or, if this mode of speech offend you, let me ...\n",
              "...       ...                                                ...\n",
              "8362  id22510  Then again he distracted my thoughts from my s...\n",
              "8363  id19204  Upon the whole, whether happily or unhappily, ...\n",
              "8364  id05758  He was not allowed to finish this speech in tr...\n",
              "8365  id27063  His looks were wild with terror, and he spoke ...\n",
              "8366  id11773  By the quantity of provision which I had consu...\n",
              "8367  id11562  I hurled after the scoundrel these vehement wo...\n",
              "8368  id16208  Notwithstanding the hazardous object of our jo...\n",
              "8369  id04036  I felt the greatest eagerness to hear the prom...\n",
              "8370  id26159  But in the expression of the countenance, whic...\n",
              "8371  id26777  Its decorations were rich, yet tattered and an...\n",
              "8372  id08501  He directed my attention to some object agains...\n",
              "8373  id11216  Hey? Haow'd ye like to hear the haowlin' night...\n",
              "8374  id03410  She was buried not in a vault, but in an ordin...\n",
              "8375  id04537  In company with this sprightly and clever Gree...\n",
              "8376  id26628  In this unnerved in this pitiable condition I ...\n",
              "8377  id01586  He was a scoundrel, and I don't blame you for ...\n",
              "8378  id13421  But why should I dwell upon the incidents that...\n",
              "8379  id26084  In the streets were spears of long grass, and ...\n",
              "8380  id05375  When I first sought it, it was the love of vir...\n",
              "8381  id23212  But it is in matters beyond the limits of mere...\n",
              "8382  id15980  \"I may say an excellently well constructed house.\n",
              "8383  id11719  Across a covered bridge one sees a small villa...\n",
              "8384  id13109  You cannot take up a common newspaper in which...\n",
              "8385  id07156  Consoling myself with this reflection, I was m...\n",
              "8386  id04893  Yet we laughed and were merry in our proper wa...\n",
              "8387  id11749         All this is now the fitter for my purpose.\n",
              "8388  id10526                 I fixed myself on a wide solitude.\n",
              "8389  id13477  It is easily understood that what might improv...\n",
              "8390  id13761  Be this as it may, I now began to feel the ins...\n",
              "8391  id04282  Long winded, statistical, and drearily genealo...\n",
              "\n",
              "[8392 rows x 2 columns]"
            ]
          },
          "metadata": {
            "tags": []
          },
          "execution_count": 58
        }
      ]
    }
  ]
}